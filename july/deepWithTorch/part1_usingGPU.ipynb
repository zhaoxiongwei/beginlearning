{
 "cells": [
  {
   "cell_type": "markdown",
   "metadata": {},
   "source": [
    "## Torch下的GPU支持\n",
    "\n",
    "### 1. 支持GPU的张量库\n"
   ]
  },
  {
   "cell_type": "code",
   "execution_count": null,
   "metadata": {
    "collapsed": true
   },
   "outputs": [],
   "source": [
    "require 'cutorch'\n",
    "print(  cutorch.getDeviceProperties(cutorch.getDevice()) )\n",
    "\n",
    "-- 我们默认使用Float，单精度计算\n",
    "torch.setdefaulttensortype('torch.FloatTensor')"
   ]
  },
  {
   "cell_type": "markdown",
   "metadata": {},
   "source": [
    "Torch支持tensor在CPU/GPU各种的切换，cutorch支持在GPU环境下执行Tensor的各种操作。"
   ]
  },
  {
   "cell_type": "code",
   "execution_count": null,
   "metadata": {
    "collapsed": true
   },
   "outputs": [],
   "source": [
    "-- 在GPU内进行计算\n",
    "t1 = torch.CudaTensor(100):fill(0.5)\n",
    "t2 = torch.CudaTensor(100):fill(1)\n",
    "t1:add(t2)\n",
    "\n",
    "-- GPU和CPU内存切换\n",
    "t1_cpu = t1:float()\n",
    "t1:zero()\n",
    "t1[{}] = t1_cpu  -- copies the data back to the GPU, with no new alloc\n",
    "t1_new = t1_cpu:cuda()  -- allocates a new tensor"
   ]
  },
  {
   "cell_type": "markdown",
   "metadata": {},
   "source": [
    "### 2. 支持GPU执行环境的神经网络库\n",
    "\n",
    "Torch包含一个GPU执行的神经网络库，这个库和Tensor库的GPU支持一样，接口与GPU版本一样。\n",
    "同样神经网络模型支持CPU与GPU之间的无缝切换。"
   ]
  },
  {
   "cell_type": "code",
   "execution_count": null,
   "metadata": {
    "collapsed": true
   },
   "outputs": [],
   "source": []
  }
 ],
 "metadata": {
  "kernelspec": {
   "display_name": "iTorch",
   "language": "lua",
   "name": "itorch"
  },
  "language_info": {
   "name": "lua",
   "version": "20100"
  }
 },
 "nbformat": 4,
 "nbformat_minor": 0
}
