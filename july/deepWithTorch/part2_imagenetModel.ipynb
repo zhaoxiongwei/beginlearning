{
 "cells": [
  {
   "cell_type": "markdown",
   "metadata": {},
   "source": [
    "## 深度学习演示1：ImageNet 模型演示\n",
    "\n",
    "这里演示一个ImageNet模型的效果，模型来自CCV项目。\n",
    "\n",
    "\n",
    "1. 首先我们下载一个已经训练好的模型文件\n",
    "\n",
    "wget -c http://static.libccv.org/image-net-2012-vgg-d.sqlite3\n",
    "\n",
    "wget -c https://raw.githubusercontent.com/liuliu/ccv/stable/samples/image-net-2012.words \n",
    "\n",
    "2. 安装loadcvv\n",
    "\n",
    "loadccv is tool which convert libccv model to Torch. This tool is coming from github (https://github.com/deltheil/loadccv).\n",
    "\n",
    "3. 转换为Torch模型\n",
    "\n",
    "```\n",
    "loadccv ./image-net-2012-vgg-d.sqlite3\n",
    "```\n",
    "\n",
    "这样我们可以Torch下使用的模型文件`net.bin`以及`meta.bin`\n",
    "\n",
    "### 1. 装载和初始化网络结构\n",
    "\n",
    "首先我们来看一下VGG模型的结构：\n",
    "\n",
    "```\n",
    "nn.Sequential {\n",
    "  [input -> (1) -> (2) -> (3) -> (4) -> (5) -> (6) -> (7) -> (8) -> (9) -> (10) -> (11) -> (12) -> (13) -> (14) -> (15) -> (16) -> (17) -> (18) -> (19) -> (20) -> (21) -> (22) -> (23) -> (24) -> (25) -> (26) -> (27) -> (28) -> (29) -> (30) -> (31) -> (32) -> (33) -> (34) -> (35) -> (36) -> (37) -> (38) -> output]\n",
    "  (1): nn.SpatialConvolutionMM(3 -> 64, 3x3, 1,1)\n",
    "  (2): nn.ReLU\n",
    "  (3): nn.SpatialConvolutionMM(64 -> 64, 3x3, 1,1)\n",
    "  (4): nn.ReLU\n",
    "  (5): nn.SpatialMaxPooling(3,3,2,2)\n",
    "  (6): nn.SpatialConvolutionMM(64 -> 128, 3x3, 1,1)\n",
    "  (7): nn.ReLU\n",
    "  (8): nn.SpatialConvolutionMM(128 -> 128, 3x3, 1,1)\n",
    "  (9): nn.ReLU\n",
    "  (10): nn.SpatialMaxPooling(3,3,2,2)\n",
    "  (11): nn.SpatialConvolutionMM(128 -> 256, 3x3, 1,1)\n",
    "  (12): nn.ReLU\n",
    "  (13): nn.SpatialConvolutionMM(256 -> 256, 3x3, 1,1)\n",
    "  (14): nn.ReLU\n",
    "  (15): nn.SpatialConvolutionMM(256 -> 256, 3x3, 1,1)\n",
    "  (16): nn.ReLU\n",
    "  (17): nn.SpatialMaxPooling(3,3,2,2)\n",
    "  (18): nn.SpatialConvolutionMM(256 -> 512, 3x3, 1,1)\n",
    "  (19): nn.ReLU\n",
    "  (20): nn.SpatialConvolutionMM(512 -> 512, 3x3, 1,1)\n",
    "  (21): nn.ReLU\n",
    "  (22): nn.SpatialConvolutionMM(512 -> 512, 3x3, 1,1)\n",
    "  (23): nn.ReLU\n",
    "  (24): nn.SpatialMaxPooling(3,3,2,2)\n",
    "  (25): nn.SpatialConvolutionMM(512 -> 512, 3x3, 1,1)\n",
    "  (26): nn.ReLU\n",
    "  (27): nn.SpatialConvolutionMM(512 -> 512, 3x3, 1,1)\n",
    "  (28): nn.ReLU\n",
    "  (29): nn.SpatialConvolutionMM(512 -> 512, 3x3, 1,1)\n",
    "  (30): nn.ReLU\n",
    "  (31): nn.SpatialMaxPooling(3,3,2,2)\n",
    "  (32): nn.Transpose\n",
    "  (33): nn.Reshape(18432)\n",
    "  (34): nn.Linear(18432 -> 4096)\n",
    "  (35): nn.ReLU\n",
    "  (36): nn.Linear(4096 -> 4096)\n",
    "  (37): nn.ReLU\n",
    "  (38): nn.Linear(4096 -> 1000)\n",
    "}\n",
    "```\n"
   ]
  },
  {
   "cell_type": "code",
   "execution_count": 2,
   "metadata": {
    "collapsed": false
   },
   "outputs": [
    {
     "data": {
      "text/plain": [
       "{\n",
       "  input : \n",
       "    {\n",
       "      width : 225\n",
       "      channels : 3\n",
       "      height : 225\n",
       "    }\n",
       "  package : nn\n",
       "  mean : FloatTensor - size: 3x257x257\n",
       "  num_output : 1000\n",
       "  cuda : false\n",
       "  lrn : nn\n",
       "}\n",
       "==>tree frog, tree-frog\t\n",
       "==>tailed frog, bell toad, ribbed toad, tailed toad, Ascaphus trui\t\n",
       "==>whistle\t\n",
       "==>wing\t\n",
       "==>paintbrush\t\n",
       "==>hand blower, blow dryer, blow drier, hair dryer, hair drier\t\n",
       "==>oxygen mask\t\n",
       "==>snorkel\t\n",
       "==>loudspeaker, speaker, speaker unit, loudspeaker system, speaker system\t\n",
       "==>microphone, mike\t\n",
       "==>screen, CRT screen\t\n"
      ]
     },
     "execution_count": 2,
     "metadata": {},
     "output_type": "execute_result"
    }
   ],
   "source": [
    "-- 首先载入Meta信息\n",
    "require('nn')\n",
    "meta = torch.load('./meta.bin')\n",
    "print(meta)\n",
    "\n",
    "-- 载入分类文本\n",
    "local fc = io.open(\"image-net-2012.words\")\n",
    "local classText = {}\n",
    "while true do\n",
    "    local line = fc:read()\n",
    "    if line == nil then break end\n",
    "    table.insert(classText, line)\n",
    "end\n",
    "fc:close()\n",
    "\n",
    "-- 列出分类文本信息\n",
    "for i=500,510 do\n",
    "    print('==>' .. classText[i])\n",
    "end\n",
    "\n",
    "meta.classText = classText"
   ]
  },
  {
   "cell_type": "code",
   "execution_count": 3,
   "metadata": {
    "collapsed": false
   },
   "outputs": [],
   "source": [
    "-- 装载最后的Torch模型\n",
    "model = torch.load('net.bin')"
   ]
  },
  {
   "cell_type": "markdown",
   "metadata": {},
   "source": [
    "### 2. 装载测试数据\n",
    "\n",
    "这里随机挑选了几张图片做测试，看看top5的输出。\n"
   ]
  },
  {
   "cell_type": "code",
   "execution_count": 4,
   "metadata": {
    "collapsed": false
   },
   "outputs": [],
   "source": [
    "require('image')\n",
    "\n",
    "orignalImages = {}\n",
    "for i=1,10 do\n",
    "  local img = image.loadPNG('./images/'..i..'.png', 3)\n",
    "  orignalImages[i] = img:float()\n",
    "end\n",
    "\n",
    "-- 进行数据的预处理\n",
    "testImages = {}\n",
    "local imageMean = meta.mean:sub(1, 3, 1,256, 1,256)\n",
    "\n",
    "\n",
    "for i=1,#orignalImages do\n",
    "  local img = orignalImages[i] * 256\n",
    "  img = img - imageMean\n",
    "  img = image.crop(img, 10, 10, 235, 235)\n",
    "  testImages[i] = img\n",
    "end\n",
    "\n"
   ]
  },
  {
   "cell_type": "code",
   "execution_count": null,
   "metadata": {
    "collapsed": true
   },
   "outputs": [],
   "source": [
    "testScores = {}\n",
    "for i=1, #testImages do\n",
    "    local score = model:forward(testImages[i])\n",
    "end"
   ]
  }
 ],
 "metadata": {
  "kernelspec": {
   "display_name": "iTorch",
   "language": "lua",
   "name": "itorch"
  },
  "language_info": {
   "name": "lua",
   "version": "20100"
  }
 },
 "nbformat": 4,
 "nbformat_minor": 0
}
